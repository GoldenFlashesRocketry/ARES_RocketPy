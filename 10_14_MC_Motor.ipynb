{
 "cells": [
  {
   "cell_type": "markdown",
   "id": "55ec2386",
   "metadata": {},
   "source": [
    "Monte Carlo Simulation for Test Motors 10/14/2025\n",
    "Check with Matt for actual test"
   ]
  },
  {
   "cell_type": "code",
   "execution_count": null,
   "id": "63151ca1",
   "metadata": {},
   "outputs": [],
   "source": [
    "from rocketpy import Environment, SolidMotor, Rocket, Flight"
   ]
  },
  {
   "cell_type": "code",
   "execution_count": null,
   "id": "8dc83116",
   "metadata": {},
   "outputs": [],
   "source": [
    "env = Environment(latitude=31.04434, longitude=-103.53517, elevation=1400)\n",
    "\n",
    "import datetime\n",
    "tomorrow = datetime.date.today() + datetime.timedelta(days=1)\n",
    "\n",
    "env.set_date(\n",
    "    (tomorrow.year, tomorrow.month, tomorrow.day, 12)\n",
    ")\n",
    "\n",
    "env.set_atmospheric_model(type=\"Forecast\", file=\"GFS\")\n",
    "env.info()"
   ]
  },
  {
   "cell_type": "code",
   "execution_count": null,
   "id": "9c8f8f17",
   "metadata": {},
   "outputs": [],
   "source": [
    "# Motor Definition\n",
    "K2TestBurn = SolidMotor(\n",
    "    thrust_source = \"\\Raw Data\\K2Comp.eng\",\n",
    "    dry_mass = 0.9,\n",
    "    dry_inertia = (0.475, 0.475, 0.007),\n",
    "    nozzle_radius = 0.0254,\n",
    "    grain_number = 5,\n",
    "    grain_density = 1320.5533, #calculated from Matt's sim\n",
    "    grain_outer_radius = 82.3 / 2000,\n",
    "    grain_initial_inner_radius = 38.1 / 2000,\n",
    "    grain_initial_height = 0.147955,\n",
    "    grain_separation = 0,\n",
    "    grains_center_of_mass_position=0.508,\n",
    "    center_of_dry_mass_position=0.4826,\n",
    "    nozzle_position=0,\n",
    "    burn_time = 4.136,\n",
    "    throat_radius = 0.01524,\n",
    "    coordinate_system_orientation=\"nozzle_to_combustion_chamber\"\n",
    ")\n"
   ]
  }
 ],
 "metadata": {
  "language_info": {
   "name": "python"
  }
 },
 "nbformat": 4,
 "nbformat_minor": 5
}
