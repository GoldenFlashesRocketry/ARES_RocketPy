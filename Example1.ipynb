{
 "cells": [
  {
   "cell_type": "markdown",
   "id": "d3c1cc6c",
   "metadata": {},
   "source": [
    "Example 1 From RocketPy Website"
   ]
  },
  {
   "cell_type": "code",
   "execution_count": null,
   "id": "ccc1dde8",
   "metadata": {},
   "outputs": [],
   "source": [
    "from rocketpy import Environment, SolidMotor, Rocket, Flight"
   ]
  },
  {
   "cell_type": "code",
   "execution_count": null,
   "id": "885b2449",
   "metadata": {},
   "outputs": [],
   "source": [
    "# Define Environment\n",
    "env = Environment(latitude=32.990254, longitude=-106.974998, elevation=1400)\n",
    "\n",
    "import datetime\n",
    "tomorrow = datetime.date.today() + datetime.timedelta(days=1)\n",
    "\n",
    "env.set_date(\n",
    "    (tomorrow.year, tomorrow.month, tomorrow.day, 12)\n",
    ") # Hour given in UTC time\n",
    "\n",
    "env.set_atmospheric_model(type=\"Forecast\", file=\"GFS\")\n",
    "\n",
    "env.info()\n"
   ]
  },
  {
   "cell_type": "code",
   "execution_count": null,
   "id": "e6ca1884",
   "metadata": {},
   "outputs": [],
   "source": [
    "# Defining a Motor\n",
    "Pro75M1670 = SolidMotor(\n",
    "    thrust_source=\"../data/motors/cesaroni/Cesaroni_M1670.eng\",\n",
    "    dry_mass = 1.815,\n",
    "    dry_inertia=(0.125, 0.125, 0.002),\n",
    "    nozzle_radius=33/1000,\n",
    "    grain_number=5,\n",
    "    grain_density=1815,\n",
    "    grain_outer_radius=33/1000,\n",
    "    grain_initial_inner_radius=15/1000,\n",
    "    grain_initial_height=120/1000,\n",
    "    grain_separation=5/1000,\n",
    "    grains_center_of_mass_position=0.397,\n",
    "    center_of_dry_mass_position=0.317,\n",
    "    nozzle_position=0,\n",
    "    burn_time=3.0,\n",
    "    throat_radius=11/1000,\n",
    "    coordinate_system_orientation=\"nozzle_to_combustion_chamber\",\n",
    ")\n",
    "Pro75M1670.info()"
   ]
  },
  {
   "cell_type": "code",
   "execution_count": null,
   "id": "1fffd670",
   "metadata": {},
   "outputs": [],
   "source": [
    "#Defining a Rocket\n",
    "calisto = Rocket(\n",
    "    radius = 127/2000,\n",
    "    mass=14.426,\n",
    "    inertia=(6.321, 6.321, 0.034),\n",
    "    power_off_drag=\"../data/rockets/calisto/powerOffDragCurve.csv\",\n",
    "    power_on_drag=\"../data/rockets/calisto/powerOnDragCurve.csv\",\n",
    "    center_of_mass_without_motor=0,\n",
    "    coordinate_system_orientation=\"tail_to_nose\",\n",
    ")\n",
    "calisto.add_motor(Pro75M1670, position=-1.255)\n",
    "\n",
    "rail_buttons = calisto.set_rail_buttons(\n",
    "    upper_button_position=0.0818,\n",
    "    lower_button_position=-0.6182,\n",
    "    angular_position=45,\n",
    ")\n",
    "nose_cone = calisto.add_nose(\n",
    "    length=0.55829, kind=\"von karman\", position=1.278\n",
    ")\n",
    "fin_set = calisto.add_trapezoidal_fins(\n",
    "    n=4,\n",
    "    root_chord=0.120,\n",
    "    tip_chord=0.060,\n",
    "    span=0.110,\n",
    "    position=-1.04956,\n",
    "    cant_angle=0.5,\n",
    "    airfoil=(\"../data/airfoils/NACA0012-radians.txt\",\"radians\"),\n",
    ")\n",
    "tail = calisto.add_tail(\n",
    "    top_radius=0.0635, bottom_radius=0.0435, length=0.060, position=-1.194656\n",
    ")\n",
    "main = calisto.add_parachute(\n",
    "    name='main',\n",
    "    cd_s=10.0,\n",
    "    trigger=800,\n",
    "    sampling_rate=105,\n",
    "    lag=1.5,\n",
    "    noise=(0,8.3, 0.5),\n",
    ")\n",
    "drogue = calisto.add_parachute(\n",
    "    name='Drogue',\n",
    "    cd_s = 1.0,\n",
    "    trigger=\"apogee\", #ejection at apogee\n",
    "    sampling_rate=105,\n",
    "    lag=1.5,\n",
    "    noise=(0, 8.3, 0.5),\n",
    ")\n",
    "calisto.plots.static_margin()"
   ]
  },
  {
   "cell_type": "code",
   "execution_count": null,
   "id": "f4f094b8",
   "metadata": {},
   "outputs": [],
   "source": [
    "calisto.draw()"
   ]
  },
  {
   "cell_type": "code",
   "execution_count": null,
   "id": "399a396e",
   "metadata": {},
   "outputs": [],
   "source": [
    "# Running the Simulation\n",
    "test_flight = Flight(\n",
    "    rocket=calisto, environment=env, rail_length=5.2, inclination=85, heading=0\n",
    ")\n",
    "test_flight.info()"
   ]
  },
  {
   "cell_type": "code",
   "execution_count": null,
   "id": "a149a976",
   "metadata": {},
   "outputs": [],
   "source": [
    "test_flight.plots.trajectory_3d()"
   ]
  },
  {
   "cell_type": "code",
   "execution_count": null,
   "id": "efd7b83d",
   "metadata": {},
   "outputs": [],
   "source": [
    "test_flight.plots.linear_kinematics_data()"
   ]
  },
  {
   "cell_type": "code",
   "execution_count": null,
   "id": "6f9f2533",
   "metadata": {},
   "outputs": [],
   "source": [
    "test_flight.plots.flight_path_angle_data()"
   ]
  },
  {
   "cell_type": "code",
   "execution_count": null,
   "id": "9b4286ea",
   "metadata": {},
   "outputs": [],
   "source": [
    "test_flight.plots.attitude_data()"
   ]
  },
  {
   "cell_type": "code",
   "execution_count": null,
   "id": "c81cba22",
   "metadata": {},
   "outputs": [],
   "source": [
    "test_flight.plots.angular_kinematics_data()"
   ]
  },
  {
   "cell_type": "code",
   "execution_count": null,
   "id": "bff28808",
   "metadata": {},
   "outputs": [],
   "source": [
    "test_flight.plots.aerodynamic_forces()"
   ]
  },
  {
   "cell_type": "code",
   "execution_count": null,
   "id": "93b1dc71",
   "metadata": {},
   "outputs": [],
   "source": [
    "test_flight.plots.rail_buttons_forces()"
   ]
  },
  {
   "cell_type": "code",
   "execution_count": null,
   "id": "36e827c9",
   "metadata": {},
   "outputs": [],
   "source": [
    "test_flight.plots.energy_data()"
   ]
  },
  {
   "cell_type": "code",
   "execution_count": null,
   "id": "cbc8e2c4",
   "metadata": {},
   "outputs": [],
   "source": [
    "test_flight.plots.fluid_mechanics_data()"
   ]
  },
  {
   "cell_type": "code",
   "execution_count": null,
   "id": "36287b11",
   "metadata": {},
   "outputs": [],
   "source": [
    "test_flight.plots.stability_and_control_data()"
   ]
  }
 ],
 "metadata": {
  "kernelspec": {
   "display_name": "venv",
   "language": "python",
   "name": "python3"
  },
  "language_info": {
   "codemirror_mode": {
    "name": "ipython",
    "version": 3
   },
   "file_extension": ".py",
   "mimetype": "text/x-python",
   "name": "python",
   "nbconvert_exporter": "python",
   "pygments_lexer": "ipython3",
   "version": "3.13.0"
  }
 },
 "nbformat": 4,
 "nbformat_minor": 5
}
